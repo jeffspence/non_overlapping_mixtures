{
 "cells": [
  {
   "cell_type": "code",
   "execution_count": null,
   "metadata": {},
   "outputs": [],
   "source": [
    "import numpy as np\n",
    "import pandas as pd\n",
    "import scanpy as sc\n",
    "import anndata\n",
    "from sklearn.decomposition import TruncatedSVD\n",
    "import matplotlib\n",
    "import matplotlib.pyplot as plt"
   ]
  },
  {
   "cell_type": "markdown",
   "metadata": {},
   "source": [
    "# Note: much of this notebook was copied from the kallisto tutorial available here: https://colab.research.google.com/github/pachterlab/kallistobustools/blob/master/notebooks/kb_analysis_0_python.ipynb#scrollTo=pK3fnX8hCuT-"
   ]
  },
  {
   "cell_type": "code",
   "execution_count": null,
   "metadata": {},
   "outputs": [],
   "source": [
    "# Download the data from the 10x website\n",
    "!wget http://cf.10xgenomics.com/samples/cell-exp/3.0.0/pbmc_1k_v3/pbmc_1k_v3_fastqs.tar\n",
    "\n",
    "# unpack the downloaded files\n",
    "!tar -xvf pbmc_1k_v3_fastqs.tar"
   ]
  },
  {
   "cell_type": "code",
   "execution_count": null,
   "metadata": {},
   "outputs": [],
   "source": [
    "# Download a transcriptome index\n",
    "!kb ref -d human -i index.idx -g t2g.txt -f1 transcriptome.fasta"
   ]
  },
  {
   "cell_type": "code",
   "execution_count": null,
   "metadata": {},
   "outputs": [],
   "source": [
    "# Run kallisto\n",
    "!kb count --h5ad -i index.idx -g t2g.txt -x 10xv3 -o output --filter bustools -t 2 \\\n",
    "pbmc_1k_v3_fastqs/pbmc_1k_v3_S1_L001_R1_001.fastq.gz \\\n",
    "pbmc_1k_v3_fastqs/pbmc_1k_v3_S1_L001_R2_001.fastq.gz \\\n",
    "pbmc_1k_v3_fastqs/pbmc_1k_v3_S1_L002_R1_001.fastq.gz \\\n",
    "pbmc_1k_v3_fastqs/pbmc_1k_v3_S1_L002_R2_001.fastq.gz"
   ]
  },
  {
   "cell_type": "code",
   "execution_count": null,
   "metadata": {},
   "outputs": [],
   "source": [
    "# Set some settings\n",
    "sc.settings.verbosity = 3             # verbosity: errors (0), warnings (1), info (2), hints (3)\n",
    "sc.logging.print_versions()\n",
    "sc.settings.set_figure_params(dpi=80)"
   ]
  },
  {
   "cell_type": "code",
   "execution_count": null,
   "metadata": {},
   "outputs": [],
   "source": [
    "# load the unfiltered matrix\n",
    "results_file = 'pbmc1k.h5ad'  # the file that will store the analysis results\n",
    "adata = anndata.read_h5ad(\"output/counts_unfiltered/adata.h5ad\")\n",
    "adata.var[\"gene_id\"] = adata.var.index.values\n",
    "\n",
    "t2g = pd.read_csv(\"t2g.txt\", header=None, names=[\"tid\", \"gene_id\", \"gene_name\"], sep=\"\\t\")\n",
    "t2g.index = t2g.gene_id\n",
    "t2g = t2g.loc[~t2g.index.duplicated(keep='first')]\n",
    "\n",
    "adata.var[\"gene_name\"] = adata.var.gene_id.map(t2g[\"gene_name\"])\n",
    "adata.var.index = adata.var[\"gene_name\"]\n",
    "\n",
    "adata.var_names_make_unique()  # this is unnecessary if using `var_names='gene_ids'` in `sc.read_10x_mtx`"
   ]
  },
  {
   "cell_type": "code",
   "execution_count": null,
   "metadata": {},
   "outputs": [],
   "source": [
    "# Removes cells with less than 1070 umi counts\n",
    "adata = adata[np.asarray(adata.X.sum(axis=1)).reshape(-1) > 1070]\n",
    "\n",
    "# Removes genes with 0 umi counts\n",
    "adata = adata[:, np.asarray(adata.X.sum(axis=0)).reshape(-1) > 0]"
   ]
  },
  {
   "cell_type": "code",
   "execution_count": null,
   "metadata": {},
   "outputs": [],
   "source": [
    "# filtering\n",
    "sc.pp.filter_cells(adata, min_genes=200)\n",
    "sc.pp.filter_genes(adata, min_cells=3)"
   ]
  },
  {
   "cell_type": "code",
   "execution_count": null,
   "metadata": {},
   "outputs": [],
   "source": [
    "mito_genes = adata.var_names.str.startswith('MT-')\n",
    "# for each cell compute fraction of counts in mito genes vs. all genes\n",
    "# the `.A1` is only necessary as X is sparse (to transform to a dense array after summing)\n",
    "adata.obs['percent_mito'] = np.sum(\n",
    "    adata[:, mito_genes].X, axis=1).A1 / np.sum(adata.X, axis=1).A1\n",
    "# add the total counts per cell as observations-annotation to adata\n",
    "adata.obs['n_counts'] = adata.X.sum(axis=1).A1"
   ]
  },
  {
   "cell_type": "code",
   "execution_count": null,
   "metadata": {},
   "outputs": [],
   "source": [
    "# Create a mask to filter out cells with more than 6500 genes, less than 200 genes or less than 0.2 mitochondrial umi counts\n",
    "mask = np.logical_or((adata.obs.n_genes < 6500).values, (adata.obs.n_genes > 200).values, (adata.obs.percent_mito < 0.2).values)"
   ]
  },
  {
   "cell_type": "code",
   "execution_count": null,
   "metadata": {},
   "outputs": [],
   "source": [
    "#filter\n",
    "adata = adata[mask, :]"
   ]
  },
  {
   "cell_type": "code",
   "execution_count": null,
   "metadata": {},
   "outputs": [],
   "source": [
    "# normalize counts in each cell to be equal\n",
    "sc.pp.normalize_total(adata, target_sum=10**4)"
   ]
  },
  {
   "cell_type": "code",
   "execution_count": null,
   "metadata": {},
   "outputs": [],
   "source": [
    "# Replace raw counts with their logarithm\n",
    "sc.pp.log1p(adata)"
   ]
  },
  {
   "cell_type": "code",
   "execution_count": null,
   "metadata": {},
   "outputs": [],
   "source": [
    "adata.raw = adata"
   ]
  },
  {
   "cell_type": "code",
   "execution_count": null,
   "metadata": {},
   "outputs": [],
   "source": [
    "# flavor=\"cell_ranger\" is consistent with Seurat and flavor=\"suerat\" is not consistent with Seurat\n",
    "sc.pp.highly_variable_genes(adata, min_mean=0.01, max_mean=8, min_disp=1, n_top_genes=2000, flavor=\"cell_ranger\", n_bins=20)"
   ]
  },
  {
   "cell_type": "code",
   "execution_count": null,
   "metadata": {},
   "outputs": [],
   "source": [
    "sc.pp.scale(adata, max_value=10)"
   ]
  },
  {
   "cell_type": "code",
   "execution_count": null,
   "metadata": {},
   "outputs": [],
   "source": [
    "data_var = adata.var.copy()"
   ]
  },
  {
   "cell_type": "code",
   "execution_count": null,
   "metadata": {},
   "outputs": [],
   "source": [
    "data = np.copy(adata.X)[:, adata.var.highly_variable]\n",
    "data = data - data.mean(axis=0)\n",
    "u, s, v = np.linalg.svd(data)"
   ]
  },
  {
   "cell_type": "code",
   "execution_count": null,
   "metadata": {},
   "outputs": [],
   "source": [
    "# one pass over the variables doing CAVI on the new VI scheme\n",
    "def update_step_sparse(X,\n",
    "                       vi_mu_z,\n",
    "                       vi_sigma_z,\n",
    "                       vi_psi_0,\n",
    "                       vi_mu_w,\n",
    "                       vi_sigma_w,\n",
    "                       sigma_sq_e,\n",
    "                       sigma_sq_1,\n",
    "                       p_0):\n",
    "    # Update Z\n",
    "    new_mu_z = np.copy(vi_mu_z)\n",
    "    expected_w = (1 - vi_psi_0) * vi_mu_w\n",
    "    expected_w_gram = np.einsum('ik,il->kl',\n",
    "                                expected_w,\n",
    "                                expected_w)\n",
    "    var_w = (1 - vi_psi_0) * (vi_mu_w ** 2 + vi_sigma_w)\n",
    "    var_w -= expected_w ** 2\n",
    "    expected_w_gram += np.diag(var_w.sum(axis=0))\n",
    "    new_sigma_z = np.linalg.inv(expected_w_gram / sigma_sq_e\n",
    "                                + np.eye(expected_w_gram.shape[0]))\n",
    "    for n in range(X.shape[0]):\n",
    "        new_mu_z[n] = new_sigma_z.dot(expected_w.T.dot(X[n])) / sigma_sq_e\n",
    "\n",
    "    # Update W\n",
    "    new_mu_w = np.copy(vi_mu_w)\n",
    "    new_sigma_w = np.copy(vi_sigma_w)\n",
    "    new_psi = np.copy(vi_psi_0)\n",
    "    # expected_z_sq_sum = np.einsum('nk,kk->k', new_mu_z**2, new_sigma_z)\n",
    "    expected_x_z_sum = np.einsum('ni,nk->ik', X, new_mu_z)\n",
    "    expected_z_cov = np.einsum('nk,nl->kl', new_mu_z, new_mu_z)\n",
    "    expected_z_cov += new_mu_z.shape[0] * new_sigma_z\n",
    "    expected_z_sq_sum = np.diag(expected_z_cov)\n",
    "    for i in range(vi_mu_w.shape[0]):\n",
    "        for k in range(vi_mu_w.shape[1]):\n",
    "            new_sigma_w[i, k] = (expected_z_sq_sum[k] / sigma_sq_e\n",
    "                                 + 1. / sigma_sq_1) ** -1\n",
    "            linked_ests = np.dot((1 - new_psi[i]) * new_mu_w[i],\n",
    "                                 expected_z_cov[k])\n",
    "            linked_ests -= ((1 - new_psi[i, k])\n",
    "                            * new_mu_w[i, k]\n",
    "                            * expected_z_cov[k, k])\n",
    "            new_mu_w[i, k] = (new_sigma_w[i, k]\n",
    "                              * (expected_x_z_sum[i, k] - linked_ests)\n",
    "                              / sigma_sq_e)\n",
    "            log_odds = (np.log(p_0 / (1-p_0))\n",
    "                        + 0.5 * np.log(sigma_sq_1)\n",
    "                        - 0.5 * new_mu_w[i, k]**2 / new_sigma_w[i, k]\n",
    "                        - 0.5 * np.log(new_sigma_w[i, k]))\n",
    "            new_psi[i, k] = 1. / (1 + np.exp(-log_odds))\n",
    "    return new_mu_z, new_sigma_z, new_psi, new_mu_w, new_sigma_w"
   ]
  },
  {
   "cell_type": "code",
   "execution_count": null,
   "metadata": {},
   "outputs": [],
   "source": [
    "sigma_sq_e = 0.5\n",
    "sigma_sq_1 = 0.5\n",
    "p_zero = 0.999\n",
    "K = 10\n",
    "\n",
    "num_vars = data.shape[1]\n",
    "u, s, v = np.linalg.svd(data)\n",
    "vi_mu_z = np.copy(u[:, 0:K])\n",
    "vi_sigma_z = np.eye(K)\n",
    "vi_mu_w = np.copy(v[0:K, :].T) * s[0:K]\n",
    "vi_sigma_w = np.ones((num_vars, K))\n",
    "vi_psi_0 = np.ones((num_vars, K)) * 0.01\n",
    "for i in range(5000):\n",
    "    (new_vi_mu_z,\n",
    "     vi_sigma_z,\n",
    "     vi_psi_0,\n",
    "     vi_mu_w,\n",
    "     vi_sigma_w) = update_step_sparse(data,\n",
    "                                      vi_mu_z,\n",
    "                                      vi_sigma_z,\n",
    "                                      vi_psi_0,\n",
    "                                      vi_mu_w,\n",
    "                                      vi_sigma_w,\n",
    "                                      sigma_sq_e,\n",
    "                                      sigma_sq_1,\n",
    "                                      p_zero)\n",
    "    if i % 100 == 0:\n",
    "        error = np.sum((new_vi_mu_z - vi_mu_z)**2)\n",
    "        print(error)\n",
    "        if error < 1e-7:\n",
    "            break\n",
    "    vi_mu_z = new_vi_mu_z"
   ]
  },
  {
   "cell_type": "code",
   "execution_count": null,
   "metadata": {},
   "outputs": [],
   "source": [
    "cell_loadings = vi_mu_z\n",
    "gene_loadings = vi_mu_w\n",
    "pips = 1 - vi_psi_0"
   ]
  },
  {
   "cell_type": "code",
   "execution_count": null,
   "metadata": {},
   "outputs": [],
   "source": [
    "print('index for GATA3', np.where(data_var[data_var.highly_variable].gene_name == 'GATA3')[0][0])\n",
    "print('index for SPI1', np.where(data_var[data_var.highly_variable].gene_name == 'SPI1')[0][0])\n",
    "print('index for BCL2', np.where(data_var[data_var.highly_variable].gene_name == 'BCL2')[0][0])"
   ]
  },
  {
   "cell_type": "code",
   "execution_count": null,
   "metadata": {},
   "outputs": [],
   "source": [
    "fig, ax = plt.subplots(nrows=3, ncols=2, figsize=(7, 7))\n",
    "\n",
    "#GATA3\n",
    "gene_idx = 1163\n",
    "sorter = np.argsort(data[:,gene_idx])\n",
    "ax[0, 0].scatter(u[sorter, 0], u[sorter, 1], c=data[sorter,gene_idx])\n",
    "ax[0, 1].scatter(cell_loadings[sorter, 0], cell_loadings[sorter, 1], c=data[sorter,gene_idx])\n",
    "print('PIPs on first 2 PCs for GATA3:', pips[gene_idx, 0], pips[gene_idx, 1])\n",
    "\n",
    "#SPI1\n",
    "gene_idx = 1096\n",
    "sorter = np.argsort(data[:,gene_idx])\n",
    "ax[1, 0].scatter(u[sorter, 0], u[sorter, 1], c=data[sorter,gene_idx])\n",
    "ax[1, 1].scatter(cell_loadings[sorter, 0], cell_loadings[sorter, 1], c=data[sorter,gene_idx])\n",
    "print('PIPs on first 2 PCs for SPI1:', pips[gene_idx, 0], pips[gene_idx, 1])\n",
    "\n",
    "#BCL2\n",
    "gene_idx = 1740\n",
    "sorter = np.argsort(data[:,gene_idx])\n",
    "ax[2, 0].scatter(u[sorter, 0], u[sorter, 1], c=data[sorter,gene_idx])\n",
    "ax[2, 1].scatter(cell_loadings[sorter, 0], cell_loadings[sorter, 1], c=data[sorter,gene_idx])\n",
    "print('PIPs on first 2 PCs for BCL2:', pips[gene_idx, 0], pips[gene_idx, 1])\n",
    "\n",
    "\n",
    "ax[2, 1].arrow(1, -2.2, .4, 0, width=0.05, head_length=0.05)\n",
    "ax[2, 1].arrow(1, -2.2, 0, 0.9, width=0.025, head_length=0.08)\n",
    "ax[2, 1].text(1.06, -2.55, 'PC1', fontsize=10)\n",
    "ax[2, 1].text(0.82, -1.95, 'PC2', fontsize=10, rotation=90)\n",
    "ax[0, 0].set_title('Classical PCA')\n",
    "ax[0, 1].set_title('Sparse pPCA')\n",
    "ax[0, 0].set_ylabel('GATA3')\n",
    "ax[1, 0].set_ylabel('SPI1')\n",
    "ax[2, 0].set_ylabel('BCL2')\n",
    "plt.subplots_adjust(wspace=0, hspace=0)\n",
    "plt.setp(plt.gcf().get_axes(), xticks=[], yticks=[]);\n",
    "plt.savefig('../figs/pbmc_pca.pdf', bbox_inches='tight', pad_inches=0)"
   ]
  },
  {
   "cell_type": "code",
   "execution_count": null,
   "metadata": {},
   "outputs": [],
   "source": [
    "plt.scatter(np.arange(10)+1, pips.mean(axis=0))\n",
    "plt.xlabel('Principal Component')\n",
    "plt.ylabel('Average PIP')\n",
    "plt.savefig('../figs/pbmc_pips.pdf', bbox_inches='tight', pad_inches=0)"
   ]
  },
  {
   "cell_type": "code",
   "execution_count": null,
   "metadata": {},
   "outputs": [],
   "source": [
    "fig, ax = plt.subplots(nrows=1, ncols=2, figsize=(10, 5))\n",
    "ax[0].scatter(v[0,:], pips[:, 0] * gene_loadings[:, 0], alpha=0.05)\n",
    "ax[0].set_title('PC 1')\n",
    "ax[0].set_xlabel('Classical PCA loading')\n",
    "ax[0].set_ylabel('VI pPCA posterior mean')\n",
    "\n",
    "ax[1].scatter(v[1,:], pips[:, 1] * gene_loadings[:, 1], alpha=0.05)\n",
    "ax[1].set_title('PC 2')\n",
    "ax[1].set_xlabel('Classical PCA loading')\n",
    "plt.savefig('../figs/pbmc_posterior_mean.pdf', bbox_inches='tight', pad_inches=0)"
   ]
  },
  {
   "cell_type": "code",
   "execution_count": null,
   "metadata": {},
   "outputs": [],
   "source": []
  }
 ],
 "metadata": {
  "kernelspec": {
   "display_name": "Python 3",
   "language": "python",
   "name": "python3"
  },
  "language_info": {
   "codemirror_mode": {
    "name": "ipython",
    "version": 3
   },
   "file_extension": ".py",
   "mimetype": "text/x-python",
   "name": "python",
   "nbconvert_exporter": "python",
   "pygments_lexer": "ipython3",
   "version": "3.7.4"
  }
 },
 "nbformat": 4,
 "nbformat_minor": 2
}
