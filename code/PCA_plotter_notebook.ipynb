{
 "cells": [
  {
   "cell_type": "code",
   "execution_count": null,
   "metadata": {},
   "outputs": [],
   "source": [
    "import numpy as np\n",
    "import matplotlib.pyplot as plt"
   ]
  },
  {
   "cell_type": "code",
   "execution_count": null,
   "metadata": {},
   "outputs": [],
   "source": [
    "# load all of the data\n",
    "w005 = np.load('./data/sparse_pca/vi_mu_w_0.005.npy')\n",
    "z005 = np.load('./data/sparse_pca/vi_mu_z_0.005.npy')\n",
    "w01 = np.load('./data/sparse_pca/vi_mu_w_0.01.npy')\n",
    "z01 = np.load('./data/sparse_pca/vi_mu_z_0.01.npy')\n",
    "w05 = np.load('./data/sparse_pca/vi_mu_w_0.05.npy')\n",
    "z05 = np.load('./data/sparse_pca/vi_mu_z_0.05.npy')\n",
    "keep = np.load('./data/sparse_pca/keep.npy')\n",
    "data = np.load('./data/sparse_pca/data.npy')\n",
    "w_sparse = np.load('./data/sparse_pca/vi_mu_w_sparse.npy')\n",
    "w_sparse_sigma = np.load('./data/sparse_pca/vi_sigma_w_sparse.npy')\n",
    "z_sparse = np.load('./data/sparse_pca/vi_mu_z_sparse.npy')\n",
    "psi_sparse = np.load('./data/sparse_pca/vi_psi_0_sparse.npy')\n",
    "\n",
    "\n",
    "z005 /= np.sqrt((z005**2).sum())\n",
    "z01 /= np.sqrt((z01**2).sum())\n",
    "z05 /= np.sqrt((z05**2).sum())\n",
    "z_sparse /= (np.sqrt((z_sparse**2).sum()) + 1e-15)"
   ]
  },
  {
   "cell_type": "code",
   "execution_count": null,
   "metadata": {},
   "outputs": [],
   "source": [
    "plt.scatter(z_sparse[0:200, 0], z_sparse[0:200, 1])\n",
    "plt.scatter(z_sparse[200:400, 0], z_sparse[200:400, 1])\n",
    "plt.scatter(z_sparse[400:450, 0], z_sparse[400:450, 1])\n",
    "plt.scatter(z_sparse[450:500, 0], z_sparse[450:500, 1])\n",
    "plt.savefig('./figs/sparse_pca.pdf')"
   ]
  },
  {
   "cell_type": "code",
   "execution_count": null,
   "metadata": {},
   "outputs": [],
   "source": [
    "plt.scatter(z005[0:200, 0], z005[0:200, 1])\n",
    "plt.scatter(z005[200:400, 0], z005[200:400, 1])\n",
    "plt.scatter(z005[400:450, 0], z005[400:450, 1])\n",
    "plt.scatter(z005[450:500, 0], z005[450:500, 1])\n",
    "plt.savefig('./figs/naive_0.005_pca.pdf')"
   ]
  },
  {
   "cell_type": "code",
   "execution_count": null,
   "metadata": {},
   "outputs": [],
   "source": [
    "plt.scatter(z01[0:200, 0], z01[0:200, 1])\n",
    "plt.scatter(z01[200:400, 0], z01[200:400, 1])\n",
    "plt.scatter(z01[400:450, 0], z01[400:450, 1])\n",
    "plt.scatter(z01[450:500, 0], z01[450:500, 1])\n",
    "plt.savefig('./figs/naive_0.01_pca.pdf')"
   ]
  },
  {
   "cell_type": "code",
   "execution_count": null,
   "metadata": {},
   "outputs": [],
   "source": [
    "plt.scatter(z05[0:200, 0], z05[0:200, 1])\n",
    "plt.scatter(z05[200:400, 0], z05[200:400, 1])\n",
    "plt.scatter(z05[400:450, 0], z05[400:450, 1])\n",
    "plt.scatter(z05[450:500, 0], z05[450:500, 1])\n",
    "plt.savefig('./figs/naive_0.05_pca.pdf')"
   ]
  },
  {
   "cell_type": "code",
   "execution_count": null,
   "metadata": {},
   "outputs": [],
   "source": [
    "u, s, v = np.linalg.svd(data)\n",
    "\n",
    "plt.scatter(u[0:200, 0], u[0:200, 1])\n",
    "plt.scatter(u[200:400, 0], u[200:400, 1])\n",
    "plt.scatter(u[400:450, 0], u[400:450, 1])\n",
    "plt.scatter(u[450:500, 0], u[450:500, 1])\n",
    "plt.savefig('./figs/standard_pca.pdf')"
   ]
  },
  {
   "cell_type": "code",
   "execution_count": null,
   "metadata": {},
   "outputs": [],
   "source": [
    "u, s, v = np.linalg.svd(data[:, keep])\n",
    "\n",
    "plt.scatter(u[0:200, 0], u[0:200, 1])\n",
    "plt.scatter(u[200:400, 0], u[200:400, 1])\n",
    "plt.scatter(u[400:450, 0], u[400:450, 1])\n",
    "plt.scatter(u[450:500, 0], u[450:500, 1])\n",
    "plt.savefig('./figs/standard_oracle_pca.pdf')"
   ]
  },
  {
   "cell_type": "code",
   "execution_count": null,
   "metadata": {},
   "outputs": [],
   "source": [
    "u, s, v = np.linalg.svd(data)\n",
    "fig = plt.figure()\n",
    "ax = fig.add_subplot(1, 1, 1)\n",
    "for pc in [0]:\n",
    "    ys = (np.arange(len(v[pc])+1)) / len(v[pc])\n",
    "    for idx, loadings in enumerate([v[pc], w005[:, pc], w01[:, pc], w05[:, pc], (1-psi_sparse[:, pc]) * w_sparse[:, pc]]):\n",
    "        loadings /= np.sqrt((loadings**2).sum())\n",
    "        xs = [1e-100] + np.sort(np.abs(loadings)).tolist()\n",
    "        if idx == 1:\n",
    "            line, = ax.plot(xs, ys, linewidth=3, linestyle='--')\n",
    "        else:\n",
    "            line, = ax.plot(xs, ys, linewidth=3)\n",
    "        ax.set_xscale('log')\n",
    "#plt.legend(['PCA', 'Naive 0.005', 'Naive 0.01', 'Naive 0.05', 'Sparse'])\n",
    "plt.xlim(1e-8,1e-1)\n",
    "plt.savefig('./figs/loadings_pc1.pdf')"
   ]
  },
  {
   "cell_type": "code",
   "execution_count": null,
   "metadata": {},
   "outputs": [],
   "source": [
    "u, s, v = np.linalg.svd(data)\n",
    "fig = plt.figure()\n",
    "ax = fig.add_subplot(1, 1, 1)\n",
    "for pc in [1]:\n",
    "    ys = (np.arange(len(v[pc])+1)) / len(v[pc])\n",
    "    for idx, loadings in enumerate([v[pc], w005[:, pc], w01[:, pc], w05[:, pc], (1-psi_sparse[:, pc]) * w_sparse[:, pc]]):\n",
    "        loadings /= np.sqrt((loadings**2).sum())\n",
    "        xs = [1e-100] + np.sort(np.abs(loadings)).tolist()\n",
    "        if idx == 1:\n",
    "            line, = ax.plot(xs, ys, linewidth=3, linestyle='--')\n",
    "        elif idx == 2:\n",
    "            line, = ax.plot(xs, ys, linewidth=3, linestyle=':')\n",
    "        else:\n",
    "            line, = ax.plot(xs, ys, linewidth=3)\n",
    "        ax.set_xscale('log')\n",
    "plt.xlim(1e-8,1e-1)\n",
    "plt.savefig('./figs/loadings_pc2.pdf')"
   ]
  },
  {
   "cell_type": "code",
   "execution_count": null,
   "metadata": {},
   "outputs": [],
   "source": []
  }
 ],
 "metadata": {
  "kernelspec": {
   "display_name": "Python 3",
   "language": "python",
   "name": "python3"
  },
  "language_info": {
   "codemirror_mode": {
    "name": "ipython",
    "version": 3
   },
   "file_extension": ".py",
   "mimetype": "text/x-python",
   "name": "python",
   "nbconvert_exporter": "python",
   "pygments_lexer": "ipython3",
   "version": "3.7.4"
  }
 },
 "nbformat": 4,
 "nbformat_minor": 2
}
